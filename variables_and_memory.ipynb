{
 "cells": [
  {
   "cell_type": "markdown",
   "metadata": {},
   "source": [
    "## Variables and Memory Deep Dive"
   ]
  },
  {
   "cell_type": "code",
   "execution_count": 1,
   "metadata": {},
   "outputs": [],
   "source": [
    "a = 10\n",
    "b = a \n",
    "c = 10\n",
    "d = 4 "
   ]
  },
  {
   "cell_type": "markdown",
   "metadata": {},
   "source": [
    "### Mem addresses\n",
    "Below is an example of how optimization in Python works in the form of 'Interning'. As we can see, Python will do what it can to utilize immutable objects such as integers, where the integer 10 in this case is used by another variable which is a reference to the memory address of 10. Furthermore, 10 is actually 'pre-loaded' in memory since it is an integer value between -5 and 256.  "
   ]
  },
  {
   "cell_type": "code",
   "execution_count": 2,
   "metadata": {},
   "outputs": [
    {
     "name": "stdout",
     "output_type": "stream",
     "text": [
      "a-address: 140256112540240\n",
      "b-address: 140256112540240\n",
      "c-address: 140256112540240\n",
      "d-address: 140256112540048\n"
     ]
    }
   ],
   "source": [
    "print('a-address: {0}'.format(id(a)))\n",
    "print('b-address: {0}'.format(id(b)))\n",
    "print('c-address: {0}'.format(id(c)))\n",
    "print('d-address: {0}'.format(id(d)))"
   ]
  },
  {
   "cell_type": "markdown",
   "metadata": {},
   "source": [
    "### Interning\n",
    "Good to use when you have a large corpus of repeated text data (like NLP stuff)."
   ]
  },
  {
   "cell_type": "code",
   "execution_count": 3,
   "metadata": {},
   "outputs": [
    {
     "name": "stdout",
     "output_type": "stream",
     "text": [
      "140256050557104\n",
      "140256050557104\n"
     ]
    }
   ],
   "source": [
    "my_str_1 = 'hello'\n",
    "my_str_2 = 'hello'\n",
    "\n",
    "print(id(my_str_1))\n",
    "print(id(my_str_2))"
   ]
  },
  {
   "cell_type": "code",
   "execution_count": 4,
   "metadata": {},
   "outputs": [
    {
     "name": "stdout",
     "output_type": "stream",
     "text": [
      "140255613144880\n",
      "140255613144560\n"
     ]
    }
   ],
   "source": [
    "my_str_1 = 'hello world'\n",
    "my_str_2 = 'hello world'\n",
    "\n",
    "print(id(my_str_1))\n",
    "print(id(my_str_2))"
   ]
  },
  {
   "cell_type": "markdown",
   "metadata": {},
   "source": [
    "#### Now deliberately going to intern this"
   ]
  },
  {
   "cell_type": "code",
   "execution_count": 5,
   "metadata": {},
   "outputs": [
    {
     "name": "stdout",
     "output_type": "stream",
     "text": [
      "140255987070448\n",
      "140255987070448\n"
     ]
    }
   ],
   "source": [
    "import sys\n",
    "\n",
    "my_str_1 = sys.intern('hello world')\n",
    "my_str_2 = sys.intern('hello world')\n",
    "\n",
    "print(id(my_str_1))\n",
    "print(id(my_str_2))"
   ]
  },
  {
   "cell_type": "code",
   "execution_count": 6,
   "metadata": {},
   "outputs": [
    {
     "data": {
      "text/plain": [
       "True"
      ]
     },
     "execution_count": 6,
     "metadata": {},
     "output_type": "execute_result"
    }
   ],
   "source": [
    "my_str_1 is my_str_2"
   ]
  },
  {
   "cell_type": "markdown",
   "metadata": {},
   "source": [
    "### Peephole Stuff\n",
    "Before runtime Python can \"look ahead\" (peep) into the code to see where things can be optimized. "
   ]
  },
  {
   "cell_type": "code",
   "execution_count": 7,
   "metadata": {},
   "outputs": [],
   "source": [
    "def my_func(self):\n",
    "    x = 2 + 5\n",
    "    y = (1, 2) * 5\n",
    "    z = 'ab' * 11"
   ]
  },
  {
   "cell_type": "code",
   "execution_count": 8,
   "metadata": {},
   "outputs": [
    {
     "data": {
      "text/plain": [
       "(None, 7, (1, 2, 1, 2, 1, 2, 1, 2, 1, 2), 'ababababababababababab')"
      ]
     },
     "execution_count": 8,
     "metadata": {},
     "output_type": "execute_result"
    }
   ],
   "source": [
    "my_func.__code__.co_consts"
   ]
  },
  {
   "cell_type": "code",
   "execution_count": null,
   "metadata": {},
   "outputs": [],
   "source": []
  }
 ],
 "metadata": {
  "kernelspec": {
   "display_name": "base",
   "language": "python",
   "name": "python3"
  },
  "language_info": {
   "codemirror_mode": {
    "name": "ipython",
    "version": 3
   },
   "file_extension": ".py",
   "mimetype": "text/x-python",
   "name": "python",
   "nbconvert_exporter": "python",
   "pygments_lexer": "ipython3",
   "version": "3.9.13"
  },
  "orig_nbformat": 4
 },
 "nbformat": 4,
 "nbformat_minor": 2
}
