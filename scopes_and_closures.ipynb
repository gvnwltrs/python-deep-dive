{
 "cells": [
  {
   "cell_type": "markdown",
   "metadata": {},
   "source": [
    "# Scopes and Closures\n"
   ]
  },
  {
   "cell_type": "code",
   "execution_count": 11,
   "metadata": {},
   "outputs": [
    {
     "name": "stdout",
     "output_type": "stream",
     "text": [
      "10\n",
      "0\n"
     ]
    }
   ],
   "source": [
    "a = 0 \n",
    "\n",
    "def my_func1():\n",
    "    a = 10\n",
    "    print(a)\n",
    "\n",
    "my_func1()\n",
    "\n",
    "print(a)"
   ]
  },
  {
   "cell_type": "code",
   "execution_count": 12,
   "metadata": {},
   "outputs": [
    {
     "name": "stdout",
     "output_type": "stream",
     "text": [
      "100\n",
      "100\n"
     ]
    }
   ],
   "source": [
    "b = 0 \n",
    "\n",
    "def my_func2():\n",
    "    global b\n",
    "    b = 100\n",
    "    print(b) \n",
    "\n",
    "my_func2()\n",
    "\n",
    "print(b)"
   ]
  },
  {
   "cell_type": "markdown",
   "metadata": {},
   "source": [
    "### Nonlocal Scope"
   ]
  },
  {
   "cell_type": "code",
   "execution_count": 13,
   "metadata": {},
   "outputs": [
    {
     "name": "stdout",
     "output_type": "stream",
     "text": [
      "10\n",
      "10\n"
     ]
    }
   ],
   "source": [
    "a = 10 \n",
    "\n",
    "def outer_func1():\n",
    "    a = 1000\n",
    "\n",
    "outer_func1()\n",
    "print(a) \n",
    "\n",
    "def outer_func2():\n",
    "    def inner_func():\n",
    "        a = 'hello' \n",
    "    inner_func() \n",
    "\n",
    "outer_func2()\n",
    "print(a)"
   ]
  },
  {
   "cell_type": "code",
   "execution_count": 14,
   "metadata": {},
   "outputs": [
    {
     "name": "stdout",
     "output_type": "stream",
     "text": [
      "10\n",
      "hello\n"
     ]
    }
   ],
   "source": [
    "a = 10 \n",
    "\n",
    "def outer_func1():\n",
    "    a = 1000\n",
    "\n",
    "outer_func1()\n",
    "print(a) \n",
    "\n",
    "def outer_func2():\n",
    "    def inner_func():\n",
    "        global a\n",
    "        a = 'hello' \n",
    "    inner_func() \n",
    "\n",
    "outer_func2()\n",
    "print(a)"
   ]
  },
  {
   "cell_type": "code",
   "execution_count": null,
   "metadata": {},
   "outputs": [],
   "source": []
  }
 ],
 "metadata": {
  "kernelspec": {
   "display_name": "base",
   "language": "python",
   "name": "python3"
  },
  "language_info": {
   "codemirror_mode": {
    "name": "ipython",
    "version": 3
   },
   "file_extension": ".py",
   "mimetype": "text/x-python",
   "name": "python",
   "nbconvert_exporter": "python",
   "pygments_lexer": "ipython3",
   "version": "3.9.13"
  },
  "orig_nbformat": 4
 },
 "nbformat": 4,
 "nbformat_minor": 2
}
